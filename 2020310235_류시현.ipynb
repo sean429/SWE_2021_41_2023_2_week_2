{
  "nbformat": 4,
  "nbformat_minor": 0,
  "metadata": {
    "colab": {
      "provenance": []
    },
    "kernelspec": {
      "name": "python3",
      "display_name": "Python 3"
    },
    "language_info": {
      "name": "python"
    }
  },
  "cells": [
    {
      "cell_type": "code",
      "execution_count": 8,
      "metadata": {
        "id": "5FcxitVf5kdQ",
        "colab": {
          "base_uri": "https://localhost:8080/"
        },
        "outputId": "58fe8ac3-7399-42b2-d009-fd1b0440793a"
      },
      "outputs": [
        {
          "output_type": "stream",
          "name": "stdout",
          "text": [
            "116\n",
            "false\n"
          ]
        }
      ],
      "source": [
        "def isHappy(a) :\n",
        "    s = 0\n",
        "    while a//1 != 0 :\n",
        "        s += (a%10)**2\n",
        "        a = int(a/10)\n",
        "    return (s)\n",
        "\n",
        "a = int(input())\n",
        "\n",
        "while 1 :\n",
        "    a = isHappy(a)\n",
        "    if a == 1 :\n",
        "        print('true')\n",
        "        break\n",
        "    elif a == 4 :\n",
        "      print(\"false\")\n",
        "      break\n",
        "\n"
      ]
    }
  ]
}